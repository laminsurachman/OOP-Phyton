{
  "nbformat": 4,
  "nbformat_minor": 0,
  "metadata": {
    "colab": {
      "name": "learning_python.ipynb",
      "provenance": [],
      "authorship_tag": "ABX9TyMzQ7B+aBk2fF1tZEtzzqi7",
      "include_colab_link": true
    },
    "kernelspec": {
      "name": "python3",
      "display_name": "Python 3"
    },
    "language_info": {
      "name": "python"
    },
    "accelerator": "TPU"
  },
  "cells": [
    {
      "cell_type": "markdown",
      "metadata": {
        "id": "view-in-github",
        "colab_type": "text"
      },
      "source": [
        "<a href=\"https://colab.research.google.com/github/laminsurachman/OOP-Phyton/blob/main/learning_python.ipynb\" target=\"_parent\"><img src=\"https://colab.research.google.com/assets/colab-badge.svg\" alt=\"Open In Colab\"/></a>"
      ]
    },
    {
      "cell_type": "code",
      "metadata": {
        "colab": {
          "base_uri": "https://localhost:8080/"
        },
        "id": "k1fW4ZDr7WWZ",
        "outputId": "7c326e6e-2f8f-462b-cca0-72a0b1360ea5"
      },
      "source": [
        "print(\"hello World\")"
      ],
      "execution_count": 1,
      "outputs": [
        {
          "output_type": "stream",
          "name": "stdout",
          "text": [
            "hello World\n"
          ]
        }
      ]
    },
    {
      "cell_type": "code",
      "metadata": {
        "id": "Wl35MUBE7oQL"
      },
      "source": [
        ""
      ],
      "execution_count": null,
      "outputs": []
    },
    {
      "cell_type": "markdown",
      "metadata": {
        "id": "ap6Qxqt48B3z"
      },
      "source": [
        "Python Operator\n",
        "1. Aritmatic operator\n",
        "2.Asigment operator\n",
        "3.Comparation operator\n",
        "4.logical operator\n",
        "5.identity operator\n",
        "6.Membership operator\n",
        "7.Bitwise operator"
      ]
    },
    {
      "cell_type": "code",
      "metadata": {
        "colab": {
          "base_uri": "https://localhost:8080/"
        },
        "id": "W-d9mrqV8l5E",
        "outputId": "e53b55ab-6a2a-47a6-ce71-cfb757a4976c"
      },
      "source": [
        "#aritmatic opereration\n",
        "4 + 2\n",
        "4 - 2\n",
        "8 - 9\n",
        "3 * 4\n",
        "\"la\" * 8\n",
        "30 / 5\n",
        "3 ** 2\n",
        "3 ** 4\n",
        "13 // 3\n",
        "13 % 2"
      ],
      "execution_count": 3,
      "outputs": [
        {
          "output_type": "execute_result",
          "data": {
            "text/plain": [
              "1"
            ]
          },
          "metadata": {},
          "execution_count": 3
        }
      ]
    },
    {
      "cell_type": "code",
      "metadata": {
        "colab": {
          "base_uri": "https://localhost:8080/"
        },
        "id": "S6LzALnG_I7g",
        "outputId": "7868be86-7d22-4092-c2b8-f3683a66c220"
      },
      "source": [
        "#asigment operator\n",
        "d += 4\n",
        "print(d)\n",
        "\n",
        "d -= 5\n",
        "print(d)\n",
        "\n"
      ],
      "execution_count": 9,
      "outputs": [
        {
          "output_type": "stream",
          "name": "stdout",
          "text": [
            "20\n",
            "15\n"
          ]
        }
      ]
    },
    {
      "cell_type": "code",
      "metadata": {
        "colab": {
          "base_uri": "https://localhost:8080/"
        },
        "id": "obHSYm1xAVxg",
        "outputId": "bcc7bae9-8770-4ec3-9c8f-3f974d1f2583"
      },
      "source": [
        "#python comparation\n",
        "\n",
        "b = 4\n",
        "c = 3\n",
        "print(b==c)\n",
        "print(b > c)\n",
        "print( b != c)\n",
        "print (b < c)"
      ],
      "execution_count": 16,
      "outputs": [
        {
          "output_type": "stream",
          "name": "stdout",
          "text": [
            "False\n",
            "True\n",
            "True\n",
            "False\n"
          ]
        }
      ]
    },
    {
      "cell_type": "code",
      "metadata": {
        "colab": {
          "base_uri": "https://localhost:8080/"
        },
        "id": "gGcaacYFBYSN",
        "outputId": "dcc9dc9e-3fa4-49a8-be94-217435bcdc5d"
      },
      "source": [
        "#python logical operator\n",
        "# and , or ,not\n",
        "a= 7\n",
        "print (a>6 and a<9)\n",
        "print (a>6 or a<9)\n",
        "print(not(a>6 and a<9))"
      ],
      "execution_count": 19,
      "outputs": [
        {
          "output_type": "stream",
          "name": "stdout",
          "text": [
            "True\n",
            "True\n",
            "False\n"
          ]
        }
      ]
    },
    {
      "cell_type": "code",
      "metadata": {
        "colab": {
          "base_uri": "https://localhost:8080/"
        },
        "id": "D3lB5XBiCO-A",
        "outputId": "e90219aa-f627-4fae-cace-010804307444"
      },
      "source": [
        "#python identity operations\n",
        "# is   Returns True if same object\n",
        "# Is not  Returns True if not same object\n",
        "fruits = [\"grapes\",\"berries\"]\n",
        "my_fruits = [\"grapes\",\"berries\"]\n",
        "fav_fruits = fruits\n",
        "print(fruits is fav_fruits)\n",
        "print(fruits is my_fruits)\n",
        "print(\"apples\"not in fruits)"
      ],
      "execution_count": 3,
      "outputs": [
        {
          "output_type": "stream",
          "name": "stdout",
          "text": [
            "True\n",
            "False\n",
            "True\n"
          ]
        }
      ]
    },
    {
      "cell_type": "code",
      "metadata": {
        "colab": {
          "base_uri": "https://localhost:8080/"
        },
        "id": "KD5DFpLOEOoW",
        "outputId": "4cb0187a-c738-4326-b679-8968a2a2de77"
      },
      "source": [
        "#python membership operator\n",
        "#in  Return True if a value found\n",
        "#not in Return True if a value found\n",
        "\n",
        "fruits = [\"grapes\",\"berries\"]\n",
        "print(\"berries\" in fruits)\n",
        "print(\"apples\" not in fruits)"
      ],
      "execution_count": 5,
      "outputs": [
        {
          "output_type": "stream",
          "name": "stdout",
          "text": [
            "True\n",
            "True\n"
          ]
        }
      ]
    },
    {
      "cell_type": "code",
      "metadata": {
        "colab": {
          "base_uri": "https://localhost:8080/"
        },
        "id": "HtZVzaQRFdZX",
        "outputId": "7b35bcf1-ade3-4cc0-8e45-72e6637d93d0"
      },
      "source": [
        "#Binary number\n",
        "# Bit-wise oerator AND &\n",
        "# & And, ! or, ^ xor, ~not, << left shift, >> Right Shift\n",
        "5&4\n",
        "5^4"
      ],
      "execution_count": 7,
      "outputs": [
        {
          "output_type": "execute_result",
          "data": {
            "text/plain": [
              "1"
            ]
          },
          "metadata": {},
          "execution_count": 7
        }
      ]
    },
    {
      "cell_type": "code",
      "metadata": {
        "id": "GZuwoazVIIwB"
      },
      "source": [
        ""
      ],
      "execution_count": null,
      "outputs": []
    },
    {
      "cell_type": "code",
      "metadata": {
        "colab": {
          "base_uri": "https://localhost:8080/"
        },
        "id": "yI3Fs64RHSB5",
        "outputId": "0d97e8e3-8e1f-4083-ff53-623a13513a59"
      },
      "source": [
        "3>>2"
      ],
      "execution_count": 8,
      "outputs": [
        {
          "output_type": "execute_result",
          "data": {
            "text/plain": [
              "0"
            ]
          },
          "metadata": {},
          "execution_count": 8
        }
      ]
    },
    {
      "cell_type": "code",
      "metadata": {
        "colab": {
          "base_uri": "https://localhost:8080/"
        },
        "id": "v6WJWA34Hn1X",
        "outputId": "ea01a631-7c5e-4146-89cd-f956b2c640d0"
      },
      "source": [
        "3<<2"
      ],
      "execution_count": 9,
      "outputs": [
        {
          "output_type": "execute_result",
          "data": {
            "text/plain": [
              "12"
            ]
          },
          "metadata": {},
          "execution_count": 9
        }
      ]
    },
    {
      "cell_type": "code",
      "metadata": {
        "colab": {
          "base_uri": "https://localhost:8080/"
        },
        "id": "VDZYiJ5jIKi9",
        "outputId": "01d18191-338f-4e0a-9ca1-0b149204657a"
      },
      "source": [
        "#operator Precedence\n",
        "3 + 4 * 2"
      ],
      "execution_count": 10,
      "outputs": [
        {
          "output_type": "execute_result",
          "data": {
            "text/plain": [
              "11"
            ]
          },
          "metadata": {},
          "execution_count": 10
        }
      ]
    },
    {
      "cell_type": "code",
      "metadata": {
        "colab": {
          "base_uri": "https://localhost:8080/"
        },
        "id": "jCDiVO0NIjt1",
        "outputId": "6d50ecbe-af07-4196-dea8-3a6545e62926"
      },
      "source": [
        "(3+4)*2"
      ],
      "execution_count": 11,
      "outputs": [
        {
          "output_type": "execute_result",
          "data": {
            "text/plain": [
              "14"
            ]
          },
          "metadata": {},
          "execution_count": 11
        }
      ]
    },
    {
      "cell_type": "code",
      "metadata": {
        "colab": {
          "base_uri": "https://localhost:8080/"
        },
        "id": "4G_7q8j1I68X",
        "outputId": "cd9f278a-1c4f-4ff5-aef1-36d06609977e"
      },
      "source": [
        "print(5 * 3 // 2)"
      ],
      "execution_count": 12,
      "outputs": [
        {
          "output_type": "stream",
          "name": "stdout",
          "text": [
            "7\n"
          ]
        }
      ]
    },
    {
      "cell_type": "markdown",
      "metadata": {
        "id": "_fNgIEUKJZ6r"
      },
      "source": [
        "DATA TYPES"
      ]
    },
    {
      "cell_type": "code",
      "metadata": {
        "colab": {
          "base_uri": "https://localhost:8080/"
        },
        "id": "1SkA5ukAJjbz",
        "outputId": "5a5faa5c-d3bf-4e77-a3c6-24313bea935a"
      },
      "source": [
        "#INTEGER(int) exs 0,100,-100,1000\n",
        "#FloatingNumber exs 0.0,3.4,5.7 -27.5\n",
        "print(type(10))\n",
        "print(type(10.0))\n",
        "\n",
        "\n"
      ],
      "execution_count": 14,
      "outputs": [
        {
          "output_type": "stream",
          "name": "stdout",
          "text": [
            "<class 'int'>\n",
            "<class 'float'>\n"
          ]
        }
      ]
    },
    {
      "cell_type": "code",
      "metadata": {
        "colab": {
          "base_uri": "https://localhost:8080/"
        },
        "id": "WHbZpp1VKnht",
        "outputId": "f3072fa6-740a-4dc7-b6d0-64e39e4103ac"
      },
      "source": [
        "#String data\n",
        "print(\"Hello World\")\n",
        "print('hey')\n",
        "print(\"Hey what\\'sup\")\n",
        "print(\"hello\"[1])\n",
        "print(\"Hello\"[-1])"
      ],
      "execution_count": 19,
      "outputs": [
        {
          "output_type": "stream",
          "name": "stdout",
          "text": [
            "Hello World\n",
            "hey\n",
            "Hey what'sup\n",
            "e\n",
            "o\n"
          ]
        }
      ]
    },
    {
      "cell_type": "code",
      "metadata": {
        "colab": {
          "base_uri": "https://localhost:8080/"
        },
        "id": "aqNO_8hGMLma",
        "outputId": "c8ecafe5-4b21-4a4b-d451-e540136d75e2"
      },
      "source": [
        "#Bolean Data Type True and False\n",
        "type(True)\n",
        "type(False)"
      ],
      "execution_count": 21,
      "outputs": [
        {
          "output_type": "execute_result",
          "data": {
            "text/plain": [
              "bool"
            ]
          },
          "metadata": {},
          "execution_count": 21
        }
      ]
    },
    {
      "cell_type": "code",
      "metadata": {
        "colab": {
          "base_uri": "https://localhost:8080/"
        },
        "id": "09YhzMxEMhGA",
        "outputId": "edeed364-7d77-4e89-fd11-9a988797fa2c"
      },
      "source": [
        "#casting of python : int(),Float(),str()\n",
        "p = '70'\n",
        "t = '-2'\n",
        "print(p +t)\n",
        "print(int(p)+int(t))\n",
        "c = 7\n",
        "d = 8\n",
        "print(float(c) + float(d))\n",
        "\n",
        "e = 9\n",
        "f = 8.5\n",
        "print(str(e),str(f),\"are strings\")"
      ],
      "execution_count": 25,
      "outputs": [
        {
          "output_type": "stream",
          "name": "stdout",
          "text": [
            "70-2\n",
            "68\n",
            "15.0\n",
            "9 8.5 are strings\n"
          ]
        }
      ]
    },
    {
      "cell_type": "code",
      "metadata": {
        "id": "uz-StuFcP52s"
      },
      "source": [
        ""
      ],
      "execution_count": null,
      "outputs": []
    },
    {
      "cell_type": "markdown",
      "metadata": {
        "id": "eHRm8S9PP9o2"
      },
      "source": [
        "DATA STRUKTUR\n",
        "1.LIST\n",
        "2.TUPLE\n",
        "3.SET\n",
        "4.DICTIONARY"
      ]
    },
    {
      "cell_type": "code",
      "metadata": {
        "colab": {
          "base_uri": "https://localhost:8080/"
        },
        "id": "M2c7WRNHRsWX",
        "outputId": "9d69bd00-0406-484e-e2d1-2d450b11fbb7"
      },
      "source": [
        "animals = [\"bear\",\"tiger\",\"Lion\",\"panda\",\"elephant\"]\n",
        "for x in animals:\n",
        "    print(x)\n",
        "print(animals)\n",
        "\n",
        "print(animals[0:3])\n",
        "print(animals[ :4])\n",
        "print(animals[1:3])\n",
        "print(animals[ :3])\n",
        "\n",
        "  \n"
      ],
      "execution_count": 38,
      "outputs": [
        {
          "output_type": "stream",
          "name": "stdout",
          "text": [
            "bear\n",
            "tiger\n",
            "Lion\n",
            "panda\n",
            "elephant\n",
            "['bear', 'tiger', 'Lion', 'panda', 'elephant']\n",
            "['bear', 'tiger', 'Lion']\n",
            "['bear', 'tiger', 'Lion', 'panda']\n",
            "['tiger', 'Lion']\n",
            "['bear', 'tiger', 'Lion']\n"
          ]
        }
      ]
    },
    {
      "cell_type": "code",
      "metadata": {
        "colab": {
          "base_uri": "https://localhost:8080/"
        },
        "id": "S13x198UUqUt",
        "outputId": "2a7af729-cf90-4ce4-a5ab-cf95ea58e719"
      },
      "source": [
        "#LIST Methode extend(),append(),sort(),count(),insert(),pop(),remove(),del()\n",
        "fruits = [\"berries\",\"apple\",\"oranges\",\"grapes\"]\n",
        "vegetables = [\"kale\",\"brokoli\",\"lettuce\"]\n",
        "\n",
        "fruits.extend(vegetables)\n",
        "print(fruits)\n",
        "\n",
        "vegetables.append(\"bean\")\n",
        "print(vegetables)\n",
        "\n",
        "vegetables.sort(reverse=True)\n",
        "print(vegetables)\n",
        "\n",
        "print(fruits.count(\"berries\"))\n",
        "\n",
        "fruits.insert(0, \"banana\")\n",
        "print(fruits)\n",
        "\n",
        "fruits.pop()\n",
        "print(fruits)\n",
        "\n",
        "fruits.remove(\"apple\")\n",
        "print(fruits)\n",
        "\n",
        "#del fruits\n",
        "#print(fruits)\n"
      ],
      "execution_count": 47,
      "outputs": [
        {
          "output_type": "stream",
          "name": "stdout",
          "text": [
            "['berries', 'apple', 'oranges', 'grapes', 'kale', 'brokoli', 'lettuce']\n",
            "['kale', 'brokoli', 'lettuce', 'bean']\n",
            "['lettuce', 'kale', 'brokoli', 'bean']\n",
            "1\n",
            "['banana', 'berries', 'apple', 'oranges', 'grapes', 'kale', 'brokoli', 'lettuce']\n",
            "['banana', 'berries', 'apple', 'oranges', 'grapes', 'kale', 'brokoli']\n",
            "['banana', 'berries', 'oranges', 'grapes', 'kale', 'brokoli']\n"
          ]
        }
      ]
    },
    {
      "cell_type": "code",
      "metadata": {
        "colab": {
          "base_uri": "https://localhost:8080/"
        },
        "id": "2JtNWGd9Z2_M",
        "outputId": "9085223c-3535-476b-b7cd-994ef7a20d8c"
      },
      "source": [
        "# TUPLE (immutable ,())\n",
        "fruits = (\"grapes\",\"apple\",\"berries\")\n",
        "for x in fruits:\n",
        "  print(x)"
      ],
      "execution_count": 48,
      "outputs": [
        {
          "output_type": "stream",
          "name": "stdout",
          "text": [
            "grapes\n",
            "apple\n",
            "berries\n"
          ]
        }
      ]
    },
    {
      "cell_type": "code",
      "metadata": {
        "colab": {
          "base_uri": "https://localhost:8080/"
        },
        "id": "UzfBKUxoan7n",
        "outputId": "24037943-e323-412e-bbce-486957ca4167"
      },
      "source": [
        "fruits = (\"grapes\",\"apple\",\"berries\")\n",
        "print(fruits[2])\n",
        "print(len(animals))"
      ],
      "execution_count": 52,
      "outputs": [
        {
          "output_type": "stream",
          "name": "stdout",
          "text": [
            "berries\n",
            "3\n"
          ]
        }
      ]
    },
    {
      "cell_type": "code",
      "metadata": {
        "colab": {
          "base_uri": "https://localhost:8080/"
        },
        "id": "yTwYo_cna9oT",
        "outputId": "3b50debd-aecb-4b9c-ea0f-81fdd0e1a637"
      },
      "source": [
        "#tuple contructor\n",
        "\n",
        "animals = tuple((\"lion\",\"tiger\",\"bear\"))\n",
        "print(animals)\n",
        "print(len(animals))\n",
        "#animals.add(\"dog\")   imutable\n",
        "#animals[0]= \"chetah\" imutable\n",
        "print(animals)"
      ],
      "execution_count": 56,
      "outputs": [
        {
          "output_type": "stream",
          "name": "stdout",
          "text": [
            "('lion', 'tiger', 'bear')\n",
            "3\n",
            "('lion', 'tiger', 'bear')\n"
          ]
        }
      ]
    },
    {
      "cell_type": "code",
      "metadata": {
        "colab": {
          "base_uri": "https://localhost:8080/"
        },
        "id": "4DYcnkoUcpVF",
        "outputId": "3d30e887-3b17-416d-b682-b23fd370e6c7"
      },
      "source": [
        "#Python SET\n",
        "\n",
        "fruits = {\"grapes\",\"apples\",\"barries\"}\n",
        "for x in fruits:\n",
        "  print(x)\n",
        "\n",
        "animals =((\"lion\",\"tiger\",\"bear\"))\n",
        "print(len(animals))  \n",
        "\n",
        "#built in Set Methode :add(),apdate(),clear(),discard(),remove(),del()\n",
        "\n",
        "fruits = {\"grapes\",\"apples\",\"berries\"}\n",
        "animals = ((\"lion\",\"tiger\",\"bear\"))\n",
        "\n",
        "fruits.add(\"oranges\")\n",
        "print(fruits)\n",
        "\n",
        "fruits.update([\"manggo\",\"kiwi\"])\n",
        "print(fruits)\n",
        "\n",
        "fruits.remove(\"kiwi\")\n",
        "print(fruits)\n",
        "\n",
        "fruits.clear()\n",
        "print(fruits)"
      ],
      "execution_count": 62,
      "outputs": [
        {
          "output_type": "stream",
          "name": "stdout",
          "text": [
            "apples\n",
            "grapes\n",
            "barries\n",
            "3\n",
            "{'oranges', 'berries', 'apples', 'grapes'}\n",
            "{'manggo', 'grapes', 'kiwi', 'oranges', 'berries', 'apples'}\n",
            "{'manggo', 'grapes', 'oranges', 'berries', 'apples'}\n",
            "set()\n"
          ]
        }
      ]
    },
    {
      "cell_type": "code",
      "metadata": {
        "colab": {
          "base_uri": "https://localhost:8080/"
        },
        "id": "PIYonnwcgcxq",
        "outputId": "bfbd297c-fd6f-4d63-c31a-799e4c7a93a3"
      },
      "source": [
        "#Python Dictionary\n",
        "mycar = {\n",
        "    \"brand\":\"range roper\",\n",
        "    \"model\" : \"suv\",\n",
        "    \"year\"  : 1998\n",
        "}\n",
        "print(mycar)\n",
        "\n",
        "#dictionery constructor Methode\n",
        "\n",
        "mygreens = dict(fruits=\"green apples\",vegetables=\"kale\")\n",
        "print(mygreens)\n",
        "\n",
        "#Methode Dictionery\n",
        "print(mygreens)\n",
        "print(len(mycar))\n",
        "\n",
        "mycar[\"year\"] = 2018\n",
        "print(mycar)\n",
        "print(mycar.get(\"year\"))\n",
        "\n",
        "mycar.update ({\"color\":\"silver\"})\n",
        "print(mycar)\n",
        "\n",
        "b = mycar.keys()\n",
        "print(b)\n",
        "\n",
        "mycar.pop(\"color\")\n",
        "print(mycar)\n",
        "\n",
        "mycar.clear()\n",
        "print(mycar)\n",
        "\n",
        "#del mycar\n",
        "print(mycar)"
      ],
      "execution_count": 72,
      "outputs": [
        {
          "output_type": "stream",
          "name": "stdout",
          "text": [
            "{'brand': 'range roper', 'model': 'suv', 'year': 1998}\n",
            "{'fruits': 'green apples', 'vegetables': 'kale'}\n",
            "{'fruits': 'green apples', 'vegetables': 'kale'}\n",
            "3\n",
            "{'brand': 'range roper', 'model': 'suv', 'year': 2018}\n",
            "2018\n",
            "{'brand': 'range roper', 'model': 'suv', 'year': 2018, 'color': 'silver'}\n",
            "dict_keys(['brand', 'model', 'year', 'color'])\n",
            "{'brand': 'range roper', 'model': 'suv', 'year': 2018}\n",
            "{}\n"
          ]
        }
      ]
    },
    {
      "cell_type": "code",
      "metadata": {
        "id": "QJ6VLE_bh4Ut"
      },
      "source": [
        "#Dictionery methode:get(),Update(),clear(),keys(),Value(),del()"
      ],
      "execution_count": null,
      "outputs": []
    }
  ]
}